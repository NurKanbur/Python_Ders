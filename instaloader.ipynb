{
 "cells": [
  {
   "cell_type": "code",
   "execution_count": 2,
   "id": "6f295813-9ce6-46cb-b3e0-eb5ff64273ad",
   "metadata": {},
   "outputs": [],
   "source": [
    "import requests\n",
    "import instaloader"
   ]
  },
  {
   "cell_type": "code",
   "execution_count": 21,
   "id": "c8682f0d-4b1d-4049-b852-8f4701aaee5a",
   "metadata": {},
   "outputs": [
    {
     "name": "stdout",
     "output_type": "stream",
     "text": [
      "profil fotoğrafı başarı ile indirildi.\n"
     ]
    }
   ],
   "source": [
    "def download_profile_pic(username , login_user, login_pass):\n",
    "    loader = instaloader.Instaloader()\n",
    "    try:\n",
    "        loader.login(login_user,login_pass)\n",
    "        profile = instaloader.Profile.from_username(loader.context,username)\n",
    "        profile_pic_url = profile.profile_pic_url\n",
    "        response = requests.get(profile_pic_url)\n",
    "        with open (f\"{username}_profile_pic.jpg\",\"wb\") as f:\n",
    "            f.write(response.content)\n",
    "        print(\"profil fotoğrafı başarı ile indirildi.\")\n",
    "    except Exception as e:\n",
    "        print(f\"hata:{e}\")\n",
    "my_user = \"...\"\n",
    "my_pass = \"...\"\n",
    "username = \"...\"\n",
    "download_profile_pic(username ,my_user, my_pass)"
   ]
  },
  {
   "cell_type": "code",
   "execution_count": 17,
   "id": "4fb25c0b-39fb-4616-be25-c2f1a6ea43bd",
   "metadata": {},
   "outputs": [
    {
     "name": "stdout",
     "output_type": "stream",
     "text": [
      "Gönderi sayısı: 3\n",
      "takip ettiği kişi sayısı:374\n",
      "takipçi sayısı:187\n"
     ]
    }
   ],
   "source": [
    "def get_user_info(username , login_user, login_pass):\n",
    "    loader = instaloader.Instaloader()\n",
    "    try:\n",
    "        loader.login(login_user,login_pass)\n",
    "       \n",
    "        profile = instaloader.Profile.from_username(loader.context,username)\n",
    "        num_posts = profile.mediacount\n",
    "        num_followees = profile.followees\n",
    "        num_followers = profile.followers\n",
    "\n",
    "        print(f\"Gönderi sayısı: {num_posts}\")\n",
    "        print(f\"takip ettiği kişi sayısı:{num_followees}\")\n",
    "        print(f\"takipçi sayısı:{num_followers}\")\n",
    "    except Exception as e:\n",
    "        print(f\"hata:{e}\")\n",
    "my_user = \"...\"\n",
    "my_pass = \"...\"\n",
    "username = \"...\"\n",
    "get_user_info(username, my_user, my_pass)"
   ]
  },
  {
   "cell_type": "code",
   "execution_count": null,
   "id": "d4690740-0aa1-4c28-bb58-252930534063",
   "metadata": {},
   "outputs": [],
   "source": []
  },
  {
   "cell_type": "code",
   "execution_count": null,
   "id": "6fc6a4d2-6c4f-4f3d-98b0-983dff430d54",
   "metadata": {},
   "outputs": [],
   "source": []
  }
 ],
 "metadata": {
  "kernelspec": {
   "display_name": "Python 3 (ipykernel)",
   "language": "python",
   "name": "python3"
  },
  "language_info": {
   "codemirror_mode": {
    "name": "ipython",
    "version": 3
   },
   "file_extension": ".py",
   "mimetype": "text/x-python",
   "name": "python",
   "nbconvert_exporter": "python",
   "pygments_lexer": "ipython3",
   "version": "3.10.14"
  }
 },
 "nbformat": 4,
 "nbformat_minor": 5
}
